{
 "cells": [
  {
   "cell_type": "code",
   "execution_count": 1,
   "metadata": {},
   "outputs": [],
   "source": [
    "from chatgpt_utils.translate_utils import Translator\n",
    "import multiprocessing"
   ]
  },
  {
   "cell_type": "code",
   "execution_count": 17,
   "metadata": {},
   "outputs": [
    {
     "name": "stderr",
     "output_type": "stream",
     "text": [
      "INFO:root:Parsing responses...\n"
     ]
    }
   ],
   "source": [
    "questions_ls = [\"Who is Elon Musk?\"]\n",
    "language_option = [\"German\", \"Indonesian\"]\n",
    "language_option = ', '.join(language_option)\n",
    "translator = Translator()\n",
    "answers_ls =[]\n",
    "questions_map = [(question, language_option) for question in questions_ls]\n",
    "with multiprocessing.Pool(processes=4) as pool:\n",
    "    for result in pool.starmap(translator.prompt_translator, questions_map):    \n",
    "        answers_ls.append(result)\n",
    "the_answers = translator.parse_responses(answers_ls)"
   ]
  },
  {
   "cell_type": "code",
   "execution_count": 18,
   "metadata": {},
   "outputs": [
    {
     "name": "stderr",
     "output_type": "stream",
     "text": [
      "INFO:root:Formatting answers to dataframe...\n"
     ]
    }
   ],
   "source": [
    "asnwers_dt = translator.format_answers_to_dataframe(the_answers)\n"
   ]
  },
  {
   "cell_type": "code",
   "execution_count": 19,
   "metadata": {},
   "outputs": [
    {
     "data": {
      "text/html": [
       "<div>\n",
       "<style scoped>\n",
       "    .dataframe tbody tr th:only-of-type {\n",
       "        vertical-align: middle;\n",
       "    }\n",
       "\n",
       "    .dataframe tbody tr th {\n",
       "        vertical-align: top;\n",
       "    }\n",
       "\n",
       "    .dataframe thead th {\n",
       "        text-align: right;\n",
       "    }\n",
       "</style>\n",
       "<table border=\"1\" class=\"dataframe\">\n",
       "  <thead>\n",
       "    <tr style=\"text-align: right;\">\n",
       "      <th></th>\n",
       "      <th>LANGUAGE</th>\n",
       "      <th>TRANSLATION</th>\n",
       "    </tr>\n",
       "  </thead>\n",
       "  <tbody>\n",
       "    <tr>\n",
       "      <th>0</th>\n",
       "      <td>German</td>\n",
       "      <td>Wer ist Elon Musk?</td>\n",
       "    </tr>\n",
       "    <tr>\n",
       "      <th>1</th>\n",
       "      <td>Indonesian</td>\n",
       "      <td>Siapa Elon Musk?</td>\n",
       "    </tr>\n",
       "  </tbody>\n",
       "</table>\n",
       "</div>"
      ],
      "text/plain": [
       "     LANGUAGE          TRANSLATION\n",
       "0      German   Wer ist Elon Musk?\n",
       "1  Indonesian     Siapa Elon Musk?"
      ]
     },
     "execution_count": 19,
     "metadata": {},
     "output_type": "execute_result"
    }
   ],
   "source": [
    "asnwers_dt.head(100)"
   ]
  }
 ],
 "metadata": {
  "kernelspec": {
   "display_name": "chatwork",
   "language": "python",
   "name": "python3"
  },
  "language_info": {
   "codemirror_mode": {
    "name": "ipython",
    "version": 3
   },
   "file_extension": ".py",
   "mimetype": "text/x-python",
   "name": "python",
   "nbconvert_exporter": "python",
   "pygments_lexer": "ipython3",
   "version": "3.10.12"
  },
  "orig_nbformat": 4
 },
 "nbformat": 4,
 "nbformat_minor": 2
}
